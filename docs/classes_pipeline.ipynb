{
 "cells": [
  {
   "cell_type": "markdown",
   "id": "e5eee014",
   "metadata": {},
   "source": [
    "### ITESM Instituto Tecnológico de Estudios Superiores de Monterrey\n",
    "### Course:     MLOps Machine Learning Operations\n",
    "#### Teacher:   Carlos Mejia\n",
    "#### Student:   Francisco Javier Torres Zenón  A01688757\n",
    "\n",
    "### References\n",
    "* Dataset and baseline notebook copied from \n",
    "[Online Payments Fraud Detection Dataset | Kaggle](https://www.kaggle.com/datasets/rupakroy/online-payments-fraud-detection-dataset) \n",
    "* Dataset: \n",
    "https://www.kaggle.com/datasets/rupakroy/online-payments-fraud-detection-dataset/download?datasetVersionNumber=1\n",
    "* Original Baseline notebook: https://www.kaggle.com/code/nehahatti/online-payments-fraud-detection-project/notebook\n",
    "\n",
    "### About this notebook\n",
    "This notebook was taken from [Kaggle](http://www.kaggle.com) and has been rewriten \n",
    "for better reading and understanding.\n",
    "\n",
    "1. The task is to predict online payment fraud, given a number of features from online \n",
    "transfer/deposits transactions.\n",
    "2. On Kaggle there were several notebooks related to this dataset\n",
    "(Decision Tree, Logistic Regresion, KNN, Gradient Boosting Classifier).\n",
    "3. As a Baseline I choose one of the most accurated and simpler one, a notebook using\n",
    " the Decision Tree algorithm."
   ]
  },
  {
   "cell_type": "markdown",
   "id": "6b5f04f9",
   "metadata": {},
   "source": [
    "#### 1. SETUP \n",
    "Imports and configuration files needed to run this notebook\n"
   ]
  },
  {
   "cell_type": "code",
   "execution_count": 1,
   "id": "32bae7ea",
   "metadata": {
    "_cell_guid": "b1076dfc-b9ad-4769-8c92-a6c4dae69d19",
    "_uuid": "8f2839f25d086af736a60e9eeb907d3b93b6e0e5",
    "execution": {
     "iopub.execute_input": "2022-08-20T10:07:53.177565Z",
     "iopub.status.busy": "2022-08-20T10:07:53.176647Z",
     "iopub.status.idle": "2022-08-20T10:07:53.197973Z",
     "shell.execute_reply": "2022-08-20T10:07:53.196806Z"
    },
    "papermill": {
     "duration": 0.034194,
     "end_time": "2022-08-20T10:07:53.200774",
     "exception": false,
     "start_time": "2022-08-20T10:07:53.166580",
     "status": "completed"
    },
    "tags": []
   },
   "outputs": [],
   "source": [
    "# This Python 3 environment comes with many helpful analytics libraries installed\n",
    "# It is defined by the kaggle/python Docker image: https://github.com/kaggle/docker-python\n",
    "# For example, here's several helpful packages to load\n",
    "\n",
    "import os\n",
    "\n",
    "import joblib\n",
    "import numpy as np  # linear algebra\n",
    "import pandas as pd  # data processing, CSV file I/O (e.g. pd.read_csv)\n",
    "from sklearn.metrics import classification_report, confusion_matrix\n",
    "from sklearn.model_selection import train_test_split\n",
    "from sklearn.tree import DecisionTreeClassifier\n",
    "\n",
    "# Input data files are available in the read-only \"../input/\" directory\n",
    "# For example, running this (by clicking run or pressing Shift+Enter) will list all files under the input directory\n",
    "\n",
    "\n",
    "for dirname, _, filenames in os.walk(\"/kaggle/input\"):\n",
    "    for filename in filenames:\n",
    "        print(os.path.join(dirname, filename))\n",
    "\n",
    "# You can write up to 20GB to the current directory (/kaggle/working/) that gets preserved as output when you create a version using \"Save & Run All\"\n",
    "# You can also write temporary files to /kaggle/temp/, but they won't be saved outside of the current session\n",
    "\n",
    "# import os # This is an unused import"
   ]
  },
  {
   "cell_type": "markdown",
   "id": "8d4dc710",
   "metadata": {},
   "source": [
    "#### 2. Data Load\n",
    "Instructions to load the dataset.\n",
    "\n",
    "Please unload the dataset from: \n",
    "* Dataset: https://www.kaggle.com/datasets/rupakroy/online-payments-fraud-detection-dataset/download?datasetVersionNumber=1\n",
    "\n",
    "and unzip the file ```PS_20174392719_1491204439457_log.csv``` in the folder ```../files/```\n",
    "\n",
    "### BEFORE\n",
    "\n",
    "```python\n",
    "INPUT_FILES_PATH = \"./Refactor/mlops_project/mlops_project/data/\"\n",
    "INPUT_FILE_NAME = \"PS_20174392719_1491204439457_log.csv\"\n",
    "INPUT_FILE = INPUT_FILES_PATH + INPUT_FILE_NAME\n",
    "Original_python_DIRECTORY='/Users/francisco.torres/Documents/GitHub/MLOps_project/'\n",
    "\n",
    "#Change location to the refactored directory\n",
    "print(os.getcwd())\n",
    "os.chdir(Original_python_DIRECTORY)\n",
    "print(os.getcwd())\n",
    "\n",
    "Transactions_df = pd.read_csv(INPUT_FILE)\n",
    "```\n",
    "### NOW"
   ]
  },
  {
   "cell_type": "code",
   "execution_count": null,
   "id": "dbce896d",
   "metadata": {},
   "outputs": [],
   "source": [
    "# root folder\n",
    "\n",
    "# Add the parent directory to sys.path\n",
    "current_dir = os.path.dirname(os.path.abspath(__file__))\n",
    "parent_dir = os.path.abspath(os.path.join(current_dir, \"..\"))\n",
    "sys.path.append(parent_dir)\n",
    "\n",
    "\n",
    "class RetrieveURLZIP_ExtractFile:\n",
    "    \"\"\"\n",
    "    A class for retrieving a ZIP file from a given URL, UNZIP it on a ./Data/ directory for further analysis.\n",
    "    Result\n",
    "\n",
    "    Parameters:\n",
    "        url (str): The URL from which the data will be loaded.\n",
    "    Attributes:\n",
    "        url (str): The URL from which the data will be loaded.\n",
    "\n",
    "    Example usage:\n",
    "    ```\n",
    "    URL = 'https://www.openml.org/data/get_csv/16826755/phpMYEkMl'\n",
    "    data_retriever = RetrieveURLZIP_ExtractFile(URL)\n",
    "    result = data_retriever.retrieve_data()\n",
    "    print(result)\n",
    "    ```\n",
    "    \"\"\"\n",
    "\n",
    "    DATASETS_DIR = \"./data/\"  # Directory where data will be saved.\n",
    "    RETRIEVED_DATA = \"retrieved_data.csv\"  # File name for the retrieved data.\n",
    "\n",
    "    def __init__(self, url):\n",
    "        self.url = url\n",
    "        self.logfile = MyLogger(\"RetrieveURLZIP_ExtractFile\", logging.DEBUG, __name__)\n",
    "\n",
    "    def retrieve_data(self):\n",
    "        \"\"\"\n",
    "        Retrieves data from the specified URL, processes it, and stores it in a CSV file.\n",
    "\n",
    "        Returns:\n",
    "            str: A message indicating the location of the stored data.\n",
    "        \"\"\"\n",
    "\n",
    "        DATASETS_DIR = \"./data/\"  # Directory where data will be unzip.\n",
    "\n",
    "        # Create directory if it does not exist\n",
    "        if not os.path.exists(DATASETS_DIR):\n",
    "            os.makedirs(DATASETS_DIR)\n",
    "            #    print(f\"Directory '{DATASETS_DIR}' created successfully.\")\n",
    "            self.logfile.debug(f\"Directory '{DATASETS_DIR}' created successfully.\")\n",
    "        else:\n",
    "            self.logfile.debug(f\"Directory '{DATASETS_DIR}' already exists.\")\n",
    "\n",
    "        # currentdir= os.curdir()\n",
    "\n",
    "        # Retrieve zip file from specific URL\n",
    "        # Unzip file to DATASET_DIR directory\n",
    "\n",
    "        with urlopen(self.url) as zipresp:\n",
    "            with ZipFile(BytesIO(zipresp.read())) as zfile:\n",
    "                zfile.extractall(DATASETS_DIR)\n",
    "        ret = f\"Data unzipped in {self.DATASETS_DIR}\"\n",
    "        self.logfile.info(ret)\n",
    "        return ret\n",
    "\n",
    "\n",
    "# Usage Example:\n",
    "# URL = 'https://www.openml.org/data/get_csv/16826755/phpMYEkMl'\n",
    "# data_retriever = DataRetriever(URL)\n",
    "# result = data_retriever.retrieve_data()\n",
    "# print(result)\n",
    "\n",
    "\n",
    "class DataRetriever:\n",
    "    \"\"\"\n",
    "    A class for retrieving data from a given FILE and processing it for further analysis.\n",
    "\n",
    "    Parameters:\n",
    "        csv_filename (str): The path+filename from which the data will be loaded.\n",
    "\n",
    "    Attributes:\n",
    "        csv_filename (str): The path+filename from which the data will be loaded.\n",
    "\n",
    "    Example usage:\n",
    "    ```\n",
    "    CSV_FILENAME = './data/PS_log.csv'\n",
    "    data_retriever = DataRetriever(CSV_FILENAME)\n",
    "    result = data_retriever.retrieve_data()\n",
    "    print(result)\n",
    "    ```\n",
    "    \"\"\"\n",
    "\n",
    "    DROP_COLS = [\n",
    "        \"step\",\n",
    "        \"nameOrig\",\n",
    "        \"nameDest\",\n",
    "        \"oldbalanceDest\",\n",
    "        \"newbalanceDest\",\n",
    "        \"isFlaggedFraud\",\n",
    "    ]\n",
    "\n",
    "    DATASETS_DIR = \"./data/\"  # Directory where data will be saved.\n",
    "    RETRIEVED_DATA = \"retrieved_data.csv\"  # File name for the retrieved data.\n",
    "\n",
    "    def __init__(self, csvfile):\n",
    "        self.csvfile = csvfile\n",
    "\n",
    "    def retrieve_data(self):\n",
    "        \"\"\"\n",
    "        Retrieves data from the specified URL, processes it, and stores it in a CSV file.\n",
    "\n",
    "        Returns:\n",
    "            str: A message indicating the location of the stored data.\n",
    "        \"\"\"\n",
    "        # Loading data from specific URL\n",
    "        data = pd.read_csv(self.csvfile)\n",
    "\n",
    "        # Drop irrelevant columns\n",
    "        data.drop(self.DROP_COLS, axis=1, inplace=True)\n",
    "\n",
    "        # Transform categorical attribute 'type'\n",
    "        # data[\"type\"] = data[\"type\"].map(\n",
    "        #    {\"CASH_OUT\": 1, \"PAYMENT\": 2, \"CASH_IN\": 3, \"TRANSFER\": 4, \"DEBIT\": 5}\n",
    "        # )\n",
    "\n",
    "        # Create directory if it does not exist\n",
    "        if not os.path.exists(self.DATASETS_DIR):\n",
    "            os.makedirs(self.DATASETS_DIR)\n",
    "            print(f\"Directory '{self.DATASETS_DIR}' created successfully.\")\n",
    "        else:\n",
    "            print(f\"Directory '{self.DATASETS_DIR}' already exists.\")\n",
    "\n",
    "        # Save data to CSV file\n",
    "        data.to_csv(self.DATASETS_DIR + self.RETRIEVED_DATA, index=False)\n",
    "\n",
    "        return f\"Data stored in {self.DATASETS_DIR + self.RETRIEVED_DATA}\"\n",
    "\n",
    "\n",
    "# Usage Example:\n",
    "# URL = 'https://www.openml.org/data/get_csv/16826755/phpMYEkMl'\n",
    "# data_retriever = DataRetriever(URL)\n",
    "# result = data_retriever.retrieve_data()\n",
    "# print(result)"
   ]
  },
  {
   "cell_type": "code",
   "execution_count": 8,
   "id": "9cd86374",
   "metadata": {
    "execution": {
     "iopub.execute_input": "2022-08-20T10:08:14.330937Z",
     "iopub.status.busy": "2022-08-20T10:08:14.330486Z",
     "iopub.status.idle": "2022-08-20T10:08:15.272421Z",
     "shell.execute_reply": "2022-08-20T10:08:15.271221Z"
    },
    "papermill": {
     "duration": 0.954165,
     "end_time": "2022-08-20T10:08:15.275785",
     "exception": false,
     "start_time": "2022-08-20T10:08:14.321620",
     "status": "completed"
    },
    "tags": []
   },
   "outputs": [
    {
     "data": {
      "text/plain": [
       "step              0\n",
       "type              0\n",
       "amount            0\n",
       "nameOrig          0\n",
       "oldbalanceOrg     0\n",
       "newbalanceOrig    0\n",
       "nameDest          0\n",
       "oldbalanceDest    0\n",
       "newbalanceDest    0\n",
       "isFraud           0\n",
       "isFlaggedFraud    0\n",
       "dtype: int64"
      ]
     },
     "execution_count": 8,
     "metadata": {},
     "output_type": "execute_result"
    }
   ],
   "source": [
    "Transactions_df.isnull().sum()"
   ]
  },
  {
   "cell_type": "code",
   "execution_count": 9,
   "id": "814e9444",
   "metadata": {
    "execution": {
     "iopub.execute_input": "2022-08-20T10:08:15.293488Z",
     "iopub.status.busy": "2022-08-20T10:08:15.293092Z",
     "iopub.status.idle": "2022-08-20T10:08:15.300568Z",
     "shell.execute_reply": "2022-08-20T10:08:15.299763Z"
    },
    "papermill": {
     "duration": 0.019175,
     "end_time": "2022-08-20T10:08:15.302885",
     "exception": false,
     "start_time": "2022-08-20T10:08:15.283710",
     "status": "completed"
    },
    "tags": []
   },
   "outputs": [
    {
     "data": {
      "text/plain": [
       "step                int64\n",
       "type               object\n",
       "amount            float64\n",
       "nameOrig           object\n",
       "oldbalanceOrg     float64\n",
       "newbalanceOrig    float64\n",
       "nameDest           object\n",
       "oldbalanceDest    float64\n",
       "newbalanceDest    float64\n",
       "isFraud             int64\n",
       "isFlaggedFraud      int64\n",
       "dtype: object"
      ]
     },
     "execution_count": 9,
     "metadata": {},
     "output_type": "execute_result"
    }
   ],
   "source": [
    "Transactions_df.dtypes"
   ]
  },
  {
   "cell_type": "code",
   "execution_count": 10,
   "id": "8d714df8",
   "metadata": {
    "execution": {
     "iopub.execute_input": "2022-08-20T10:08:15.320619Z",
     "iopub.status.busy": "2022-08-20T10:08:15.319648Z",
     "iopub.status.idle": "2022-08-20T10:08:15.740862Z",
     "shell.execute_reply": "2022-08-20T10:08:15.739412Z"
    },
    "papermill": {
     "duration": 0.432675,
     "end_time": "2022-08-20T10:08:15.743259",
     "exception": false,
     "start_time": "2022-08-20T10:08:15.310584",
     "status": "completed"
    },
    "tags": []
   },
   "outputs": [
    {
     "data": {
      "text/plain": [
       "type\n",
       "CASH_OUT    2237500\n",
       "PAYMENT     2151495\n",
       "CASH_IN     1399284\n",
       "TRANSFER     532909\n",
       "DEBIT         41432\n",
       "Name: count, dtype: int64"
      ]
     },
     "execution_count": 10,
     "metadata": {},
     "output_type": "execute_result"
    }
   ],
   "source": [
    "Transactions_df.type.value_counts()"
   ]
  },
  {
   "cell_type": "code",
   "execution_count": 11,
   "id": "52f3ab42",
   "metadata": {
    "execution": {
     "iopub.execute_input": "2022-08-20T10:08:15.765284Z",
     "iopub.status.busy": "2022-08-20T10:08:15.764800Z",
     "iopub.status.idle": "2022-08-20T10:08:16.188924Z",
     "shell.execute_reply": "2022-08-20T10:08:16.187334Z"
    },
    "papermill": {
     "duration": 0.439403,
     "end_time": "2022-08-20T10:08:16.191196",
     "exception": false,
     "start_time": "2022-08-20T10:08:15.751793",
     "status": "completed"
    },
    "tags": []
   },
   "outputs": [
    {
     "data": {
      "text/plain": [
       "type\n",
       "CASH_OUT    2237500\n",
       "PAYMENT     2151495\n",
       "CASH_IN     1399284\n",
       "TRANSFER     532909\n",
       "DEBIT         41432\n",
       "Name: count, dtype: int64"
      ]
     },
     "execution_count": 11,
     "metadata": {},
     "output_type": "execute_result"
    }
   ],
   "source": [
    "type = Transactions_df[\"type\"].value_counts()\n",
    "type"
   ]
  },
  {
   "cell_type": "code",
   "execution_count": 12,
   "id": "6fccbb37",
   "metadata": {
    "execution": {
     "iopub.execute_input": "2022-08-20T10:08:16.211039Z",
     "iopub.status.busy": "2022-08-20T10:08:16.210589Z",
     "iopub.status.idle": "2022-08-20T10:08:16.218201Z",
     "shell.execute_reply": "2022-08-20T10:08:16.216525Z"
    },
    "papermill": {
     "duration": 0.021251,
     "end_time": "2022-08-20T10:08:16.221461",
     "exception": false,
     "start_time": "2022-08-20T10:08:16.200210",
     "status": "completed"
    },
    "tags": []
   },
   "outputs": [
    {
     "name": "stdout",
     "output_type": "stream",
     "text": [
      "Index(['CASH_OUT', 'PAYMENT', 'CASH_IN', 'TRANSFER', 'DEBIT'], dtype='object', name='type')\n",
      "count\n",
      "2237500    1\n",
      "2151495    1\n",
      "1399284    1\n",
      "532909     1\n",
      "41432      1\n",
      "Name: count, dtype: int64\n"
     ]
    }
   ],
   "source": [
    "# print transaction type counts\n",
    "transaction = type.index\n",
    "print(transaction)\n",
    "quantity = type.value_counts()\n",
    "print(quantity)"
   ]
  },
  {
   "cell_type": "code",
   "execution_count": 13,
   "id": "a56b6215",
   "metadata": {
    "execution": {
     "iopub.execute_input": "2022-08-20T10:08:16.241016Z",
     "iopub.status.busy": "2022-08-20T10:08:16.239934Z",
     "iopub.status.idle": "2022-08-20T10:08:19.095208Z",
     "shell.execute_reply": "2022-08-20T10:08:19.093875Z"
    },
    "papermill": {
     "duration": 2.867292,
     "end_time": "2022-08-20T10:08:19.097697",
     "exception": false,
     "start_time": "2022-08-20T10:08:16.230405",
     "status": "completed"
    },
    "tags": []
   },
   "outputs": [
    {
     "data": {
      "text/plain": [
       "<bound method NDFrame.describe of          step      type      amount     nameOrig  oldbalanceOrg  \\\n",
       "0           1   PAYMENT     9839.64  C1231006815      170136.00   \n",
       "1           1   PAYMENT     1864.28  C1666544295       21249.00   \n",
       "2           1  TRANSFER      181.00  C1305486145         181.00   \n",
       "3           1  CASH_OUT      181.00   C840083671         181.00   \n",
       "4           1   PAYMENT    11668.14  C2048537720       41554.00   \n",
       "...       ...       ...         ...          ...            ...   \n",
       "6362615   743  CASH_OUT   339682.13   C786484425      339682.13   \n",
       "6362616   743  TRANSFER  6311409.28  C1529008245     6311409.28   \n",
       "6362617   743  CASH_OUT  6311409.28  C1162922333     6311409.28   \n",
       "6362618   743  TRANSFER   850002.52  C1685995037      850002.52   \n",
       "6362619   743  CASH_OUT   850002.52  C1280323807      850002.52   \n",
       "\n",
       "         newbalanceOrig     nameDest  oldbalanceDest  newbalanceDest  isFraud  \\\n",
       "0             160296.36  M1979787155            0.00            0.00        0   \n",
       "1              19384.72  M2044282225            0.00            0.00        0   \n",
       "2                  0.00   C553264065            0.00            0.00        1   \n",
       "3                  0.00    C38997010        21182.00            0.00        1   \n",
       "4              29885.86  M1230701703            0.00            0.00        0   \n",
       "...                 ...          ...             ...             ...      ...   \n",
       "6362615            0.00   C776919290            0.00       339682.13        1   \n",
       "6362616            0.00  C1881841831            0.00            0.00        1   \n",
       "6362617            0.00  C1365125890        68488.84      6379898.11        1   \n",
       "6362618            0.00  C2080388513            0.00            0.00        1   \n",
       "6362619            0.00   C873221189      6510099.11      7360101.63        1   \n",
       "\n",
       "         isFlaggedFraud  \n",
       "0                     0  \n",
       "1                     0  \n",
       "2                     0  \n",
       "3                     0  \n",
       "4                     0  \n",
       "...                 ...  \n",
       "6362615               0  \n",
       "6362616               0  \n",
       "6362617               0  \n",
       "6362618               0  \n",
       "6362619               0  \n",
       "\n",
       "[6362620 rows x 11 columns]>"
      ]
     },
     "execution_count": 13,
     "metadata": {},
     "output_type": "execute_result"
    }
   ],
   "source": [
    "# show dataframe\n",
    "Transactions_df.describe"
   ]
  },
  {
   "cell_type": "markdown",
   "id": "7f76e483",
   "metadata": {},
   "source": [
    "#### 4. Data transformation\n",
    "Data cleaning, data transformation.\n",
    "\n",
    "#### BEFORE\n",
    "```python\n",
    "# Transform categorical attribute 'type'\n",
    "Transactions_df[\"type\"] = Transactions_df[\"type\"].map(\n",
    "    {\"CASH_OUT\": 1, \"PAYMENT\": 2, \"CASH_IN\": 3, \"TRANSFER\": 4, \"DEBIT\": 5}\n",
    ")\n",
    "```\n",
    "#### NOW"
   ]
  },
  {
   "cell_type": "code",
   "execution_count": 14,
   "id": "9c26b9a7",
   "metadata": {
    "execution": {
     "iopub.execute_input": "2022-08-20T10:08:20.689473Z",
     "iopub.status.busy": "2022-08-20T10:08:20.689068Z",
     "iopub.status.idle": "2022-08-20T10:08:21.444015Z",
     "shell.execute_reply": "2022-08-20T10:08:21.442432Z"
    },
    "papermill": {
     "duration": 0.767963,
     "end_time": "2022-08-20T10:08:21.446772",
     "exception": false,
     "start_time": "2022-08-20T10:08:20.678809",
     "status": "completed"
    },
    "tags": []
   },
   "outputs": [],
   "source": [
    "class Change_TransactionType(BaseEstimator, TransformerMixin):\n",
    "    \"\"\"\n",
    "    Custom scikit-learn transformer to change Transaction type from categorical to numerical\n",
    "\n",
    "    Parameters:\n",
    "        None\n",
    "\n",
    "    Attributes:\n",
    "        variable (str): The name of the column (variable) from which letters will be extracted.\n",
    "\n",
    "    Methods:\n",
    "        fit(X, y=None):\n",
    "            This method does not perform any actual training or fitting.\n",
    "            It returns the transformer instance itself.\n",
    "\n",
    "        transform(X):\n",
    "            This will change from categorical to numerical\n",
    "\n",
    "    Example usage:\n",
    "    ```\n",
    "    from sklearn.pipeline import Pipeline\n",
    "\n",
    "    # Instantiate the custom transformer\n",
    "    extractor = ExtractLetters()\n",
    "\n",
    "    # Define the pipeline with the custom transformer\n",
    "    pipeline = Pipeline([\n",
    "        ('extractor', extractor),\n",
    "        # Other pipeline steps...\n",
    "    ])\n",
    "\n",
    "    # Fit and transform the data using the pipeline\n",
    "    X_transformed = pipeline.fit_transform(X)\n",
    "    ```\n",
    "    \"\"\"\n",
    "\n",
    "    def __init__(self):\n",
    "        \"\"\"\n",
    "        Initialize the ExtractLetters transformer.\n",
    "\n",
    "        Parameters:\n",
    "            None\n",
    "        \"\"\"\n",
    "        self.variable = \"type\"\n",
    "        self.logfile = MyLogger(\"Change_TransactionType\", logging.DEBUG, __name__)\n",
    "\n",
    "    def fit(self, X, y=None):\n",
    "        \"\"\"\n",
    "        This method does not perform any actual training or fitting, as it is not necessary for this transformer.\n",
    "        It returns the transformer instance itself.\n",
    "\n",
    "        Parameters:\n",
    "            X (pd.DataFrame): Input data to be transformed. Not used in this method.\n",
    "            y (pd.Series or np.array, optional): Target variable. Not used in this method.\n",
    "\n",
    "        Returns:\n",
    "            self (type): The transformer instance.\n",
    "        \"\"\"\n",
    "        return self\n",
    "\n",
    "    def transform(self, X):\n",
    "        \"\"\"\n",
    "\n",
    "\n",
    "        Parameters:\n",
    "            X (pd.DataFrame): Input data to be transformed.\n",
    "\n",
    "        Returns:\n",
    "            X_transformed (pd.DataFrame): Transformed DataFrame with letters extracted from the specified variable.\n",
    "        \"\"\"\n",
    "        self.logfile.debug(\"Class transformation for transaction TYPE\")\n",
    "        X = X.copy()\n",
    "        X[self.variable] = X[self.variable].map(\n",
    "            {\"CASH_OUT\": 1, \"PAYMENT\": 2, \"CASH_IN\": 3, \"TRANSFER\": 4, \"DEBIT\": 5}\n",
    "        )\n",
    "        return X\n",
    "\n"
   ]
  },
  {
   "cell_type": "code",
   "execution_count": 15,
   "id": "f1b05788",
   "metadata": {
    "execution": {
     "iopub.execute_input": "2022-08-20T10:08:21.465807Z",
     "iopub.status.busy": "2022-08-20T10:08:21.465403Z",
     "iopub.status.idle": "2022-08-20T10:08:21.767975Z",
     "shell.execute_reply": "2022-08-20T10:08:21.766935Z"
    },
    "papermill": {
     "duration": 0.31528,
     "end_time": "2022-08-20T10:08:21.770770",
     "exception": false,
     "start_time": "2022-08-20T10:08:21.455490",
     "status": "completed"
    },
    "tags": []
   },
   "outputs": [],
   "source": [
    "# Transactions_df['isFraud'] = Transactions_df['isFraud'].map({0:'No_Fraud', 1:'Fraud'})\n",
    "\n",
    "# select the numerical attributes\n",
    "\n",
    "Transactions_df = Transactions_df[\n",
    "    [\n",
    "        \"type\",\n",
    "        \"amount\",\n",
    "        \"oldbalanceOrg\",\n",
    "        \"newbalanceOrig\",\n",
    "        \"oldbalanceDest\",\n",
    "        \"newbalanceDest\",\n",
    "        \"isFraud\",\n",
    "    ]\n",
    "]"
   ]
  },
  {
   "cell_type": "code",
   "execution_count": 16,
   "id": "d4b23c56",
   "metadata": {
    "execution": {
     "iopub.execute_input": "2022-08-20T10:08:21.790526Z",
     "iopub.status.busy": "2022-08-20T10:08:21.790136Z",
     "iopub.status.idle": "2022-08-20T10:08:21.811557Z",
     "shell.execute_reply": "2022-08-20T10:08:21.809618Z"
    },
    "papermill": {
     "duration": 0.034056,
     "end_time": "2022-08-20T10:08:21.814098",
     "exception": false,
     "start_time": "2022-08-20T10:08:21.780042",
     "status": "completed"
    },
    "tags": []
   },
   "outputs": [
    {
     "data": {
      "text/html": [
       "<div>\n",
       "<style scoped>\n",
       "    .dataframe tbody tr th:only-of-type {\n",
       "        vertical-align: middle;\n",
       "    }\n",
       "\n",
       "    .dataframe tbody tr th {\n",
       "        vertical-align: top;\n",
       "    }\n",
       "\n",
       "    .dataframe thead th {\n",
       "        text-align: right;\n",
       "    }\n",
       "</style>\n",
       "<table border=\"1\" class=\"dataframe\">\n",
       "  <thead>\n",
       "    <tr style=\"text-align: right;\">\n",
       "      <th></th>\n",
       "      <th>type</th>\n",
       "      <th>amount</th>\n",
       "      <th>oldbalanceOrg</th>\n",
       "      <th>newbalanceOrig</th>\n",
       "      <th>oldbalanceDest</th>\n",
       "      <th>newbalanceDest</th>\n",
       "      <th>isFraud</th>\n",
       "    </tr>\n",
       "  </thead>\n",
       "  <tbody>\n",
       "    <tr>\n",
       "      <th>0</th>\n",
       "      <td>2</td>\n",
       "      <td>9839.64</td>\n",
       "      <td>170136.00</td>\n",
       "      <td>160296.36</td>\n",
       "      <td>0.0</td>\n",
       "      <td>0.00</td>\n",
       "      <td>0</td>\n",
       "    </tr>\n",
       "    <tr>\n",
       "      <th>1</th>\n",
       "      <td>2</td>\n",
       "      <td>1864.28</td>\n",
       "      <td>21249.00</td>\n",
       "      <td>19384.72</td>\n",
       "      <td>0.0</td>\n",
       "      <td>0.00</td>\n",
       "      <td>0</td>\n",
       "    </tr>\n",
       "    <tr>\n",
       "      <th>2</th>\n",
       "      <td>4</td>\n",
       "      <td>181.00</td>\n",
       "      <td>181.00</td>\n",
       "      <td>0.00</td>\n",
       "      <td>0.0</td>\n",
       "      <td>0.00</td>\n",
       "      <td>1</td>\n",
       "    </tr>\n",
       "    <tr>\n",
       "      <th>3</th>\n",
       "      <td>1</td>\n",
       "      <td>181.00</td>\n",
       "      <td>181.00</td>\n",
       "      <td>0.00</td>\n",
       "      <td>21182.0</td>\n",
       "      <td>0.00</td>\n",
       "      <td>1</td>\n",
       "    </tr>\n",
       "    <tr>\n",
       "      <th>4</th>\n",
       "      <td>2</td>\n",
       "      <td>11668.14</td>\n",
       "      <td>41554.00</td>\n",
       "      <td>29885.86</td>\n",
       "      <td>0.0</td>\n",
       "      <td>0.00</td>\n",
       "      <td>0</td>\n",
       "    </tr>\n",
       "    <tr>\n",
       "      <th>5</th>\n",
       "      <td>2</td>\n",
       "      <td>7817.71</td>\n",
       "      <td>53860.00</td>\n",
       "      <td>46042.29</td>\n",
       "      <td>0.0</td>\n",
       "      <td>0.00</td>\n",
       "      <td>0</td>\n",
       "    </tr>\n",
       "    <tr>\n",
       "      <th>6</th>\n",
       "      <td>2</td>\n",
       "      <td>7107.77</td>\n",
       "      <td>183195.00</td>\n",
       "      <td>176087.23</td>\n",
       "      <td>0.0</td>\n",
       "      <td>0.00</td>\n",
       "      <td>0</td>\n",
       "    </tr>\n",
       "    <tr>\n",
       "      <th>7</th>\n",
       "      <td>2</td>\n",
       "      <td>7861.64</td>\n",
       "      <td>176087.23</td>\n",
       "      <td>168225.59</td>\n",
       "      <td>0.0</td>\n",
       "      <td>0.00</td>\n",
       "      <td>0</td>\n",
       "    </tr>\n",
       "    <tr>\n",
       "      <th>8</th>\n",
       "      <td>2</td>\n",
       "      <td>4024.36</td>\n",
       "      <td>2671.00</td>\n",
       "      <td>0.00</td>\n",
       "      <td>0.0</td>\n",
       "      <td>0.00</td>\n",
       "      <td>0</td>\n",
       "    </tr>\n",
       "    <tr>\n",
       "      <th>9</th>\n",
       "      <td>5</td>\n",
       "      <td>5337.77</td>\n",
       "      <td>41720.00</td>\n",
       "      <td>36382.23</td>\n",
       "      <td>41898.0</td>\n",
       "      <td>40348.79</td>\n",
       "      <td>0</td>\n",
       "    </tr>\n",
       "  </tbody>\n",
       "</table>\n",
       "</div>"
      ],
      "text/plain": [
       "   type    amount  oldbalanceOrg  newbalanceOrig  oldbalanceDest  \\\n",
       "0     2   9839.64      170136.00       160296.36             0.0   \n",
       "1     2   1864.28       21249.00        19384.72             0.0   \n",
       "2     4    181.00         181.00            0.00             0.0   \n",
       "3     1    181.00         181.00            0.00         21182.0   \n",
       "4     2  11668.14       41554.00        29885.86             0.0   \n",
       "5     2   7817.71       53860.00        46042.29             0.0   \n",
       "6     2   7107.77      183195.00       176087.23             0.0   \n",
       "7     2   7861.64      176087.23       168225.59             0.0   \n",
       "8     2   4024.36        2671.00            0.00             0.0   \n",
       "9     5   5337.77       41720.00        36382.23         41898.0   \n",
       "\n",
       "   newbalanceDest  isFraud  \n",
       "0            0.00        0  \n",
       "1            0.00        0  \n",
       "2            0.00        1  \n",
       "3            0.00        1  \n",
       "4            0.00        0  \n",
       "5            0.00        0  \n",
       "6            0.00        0  \n",
       "7            0.00        0  \n",
       "8            0.00        0  \n",
       "9        40348.79        0  "
      ]
     },
     "execution_count": 16,
     "metadata": {},
     "output_type": "execute_result"
    }
   ],
   "source": [
    "Transactions_df.head(10)"
   ]
  },
  {
   "cell_type": "code",
   "execution_count": 17,
   "id": "aaff57ef",
   "metadata": {},
   "outputs": [
    {
     "data": {
      "text/html": [
       "<div>\n",
       "<style scoped>\n",
       "    .dataframe tbody tr th:only-of-type {\n",
       "        vertical-align: middle;\n",
       "    }\n",
       "\n",
       "    .dataframe tbody tr th {\n",
       "        vertical-align: top;\n",
       "    }\n",
       "\n",
       "    .dataframe thead th {\n",
       "        text-align: right;\n",
       "    }\n",
       "</style>\n",
       "<table border=\"1\" class=\"dataframe\">\n",
       "  <thead>\n",
       "    <tr style=\"text-align: right;\">\n",
       "      <th></th>\n",
       "      <th>type</th>\n",
       "      <th>amount</th>\n",
       "      <th>oldbalanceOrg</th>\n",
       "      <th>newbalanceOrig</th>\n",
       "      <th>oldbalanceDest</th>\n",
       "      <th>newbalanceDest</th>\n",
       "      <th>isFraud</th>\n",
       "    </tr>\n",
       "  </thead>\n",
       "  <tbody>\n",
       "    <tr>\n",
       "      <th>type</th>\n",
       "      <td>1.000000</td>\n",
       "      <td>0.198987</td>\n",
       "      <td>0.260418</td>\n",
       "      <td>0.270669</td>\n",
       "      <td>0.066255</td>\n",
       "      <td>0.079111</td>\n",
       "      <td>0.016171</td>\n",
       "    </tr>\n",
       "    <tr>\n",
       "      <th>amount</th>\n",
       "      <td>0.198987</td>\n",
       "      <td>1.000000</td>\n",
       "      <td>-0.002762</td>\n",
       "      <td>-0.007861</td>\n",
       "      <td>0.294137</td>\n",
       "      <td>0.459304</td>\n",
       "      <td>0.076688</td>\n",
       "    </tr>\n",
       "    <tr>\n",
       "      <th>oldbalanceOrg</th>\n",
       "      <td>0.260418</td>\n",
       "      <td>-0.002762</td>\n",
       "      <td>1.000000</td>\n",
       "      <td>0.998803</td>\n",
       "      <td>0.066243</td>\n",
       "      <td>0.042029</td>\n",
       "      <td>0.010154</td>\n",
       "    </tr>\n",
       "    <tr>\n",
       "      <th>newbalanceOrig</th>\n",
       "      <td>0.270669</td>\n",
       "      <td>-0.007861</td>\n",
       "      <td>0.998803</td>\n",
       "      <td>1.000000</td>\n",
       "      <td>0.067812</td>\n",
       "      <td>0.041837</td>\n",
       "      <td>-0.008148</td>\n",
       "    </tr>\n",
       "    <tr>\n",
       "      <th>oldbalanceDest</th>\n",
       "      <td>0.066255</td>\n",
       "      <td>0.294137</td>\n",
       "      <td>0.066243</td>\n",
       "      <td>0.067812</td>\n",
       "      <td>1.000000</td>\n",
       "      <td>0.976569</td>\n",
       "      <td>-0.005885</td>\n",
       "    </tr>\n",
       "    <tr>\n",
       "      <th>newbalanceDest</th>\n",
       "      <td>0.079111</td>\n",
       "      <td>0.459304</td>\n",
       "      <td>0.042029</td>\n",
       "      <td>0.041837</td>\n",
       "      <td>0.976569</td>\n",
       "      <td>1.000000</td>\n",
       "      <td>0.000535</td>\n",
       "    </tr>\n",
       "    <tr>\n",
       "      <th>isFraud</th>\n",
       "      <td>0.016171</td>\n",
       "      <td>0.076688</td>\n",
       "      <td>0.010154</td>\n",
       "      <td>-0.008148</td>\n",
       "      <td>-0.005885</td>\n",
       "      <td>0.000535</td>\n",
       "      <td>1.000000</td>\n",
       "    </tr>\n",
       "  </tbody>\n",
       "</table>\n",
       "</div>"
      ],
      "text/plain": [
       "                    type    amount  oldbalanceOrg  newbalanceOrig  \\\n",
       "type            1.000000  0.198987       0.260418        0.270669   \n",
       "amount          0.198987  1.000000      -0.002762       -0.007861   \n",
       "oldbalanceOrg   0.260418 -0.002762       1.000000        0.998803   \n",
       "newbalanceOrig  0.270669 -0.007861       0.998803        1.000000   \n",
       "oldbalanceDest  0.066255  0.294137       0.066243        0.067812   \n",
       "newbalanceDest  0.079111  0.459304       0.042029        0.041837   \n",
       "isFraud         0.016171  0.076688       0.010154       -0.008148   \n",
       "\n",
       "                oldbalanceDest  newbalanceDest   isFraud  \n",
       "type                  0.066255        0.079111  0.016171  \n",
       "amount                0.294137        0.459304  0.076688  \n",
       "oldbalanceOrg         0.066243        0.042029  0.010154  \n",
       "newbalanceOrig        0.067812        0.041837 -0.008148  \n",
       "oldbalanceDest        1.000000        0.976569 -0.005885  \n",
       "newbalanceDest        0.976569        1.000000  0.000535  \n",
       "isFraud              -0.005885        0.000535  1.000000  "
      ]
     },
     "execution_count": 17,
     "metadata": {},
     "output_type": "execute_result"
    }
   ],
   "source": [
    "correlation_summary = Transactions_df.corr()\n",
    "correlation_summary"
   ]
  },
  {
   "cell_type": "code",
   "execution_count": 18,
   "id": "9b0977f8",
   "metadata": {},
   "outputs": [
    {
     "data": {
      "text/plain": [
       "isFraud           1.000000\n",
       "amount            0.076688\n",
       "type              0.016171\n",
       "oldbalanceOrg     0.010154\n",
       "newbalanceDest    0.000535\n",
       "oldbalanceDest   -0.005885\n",
       "newbalanceOrig   -0.008148\n",
       "Name: isFraud, dtype: float64"
      ]
     },
     "execution_count": 18,
     "metadata": {},
     "output_type": "execute_result"
    }
   ],
   "source": [
    "correlation_summary[\"isFraud\"].sort_values(ascending=False)"
   ]
  },
  {
   "cell_type": "markdown",
   "id": "76d8e439",
   "metadata": {},
   "source": [
    "#### 5. Model training\n",
    "* Load sklearn Decision Tree Algorithm\n",
    "* Split the dataset\n",
    "* Train the model\n",
    "\n",
    "#### BEFORE\n",
    "```python\n",
    "numerical_features = np.array(\n",
    "    Transactions_df[[\"type\", \"amount\", \"oldbalanceOrg\", \"newbalanceOrig\"]]\n",
    ")\n",
    "var_objective = np.array(Transactions_df[[\"isFraud\"]])\n",
    "\n",
    "X_train, X_test, y_train, y_test = train_test_split(\n",
    "    numerical_features, var_objective, test_size=0.2, random_state=3\n",
    ")\n",
    "DecisionTree_model = DecisionTreeClassifier()\n",
    "\n",
    "DecisionTree_model.fit(X_train, y_train)\n",
    "```\n",
    "\n",
    "#### NOW"
   ]
  },
  {
   "cell_type": "code",
   "execution_count": null,
   "id": "170715e0",
   "metadata": {},
   "outputs": [],
   "source": [
    "class FraudDetectionPipeline:\n",
    "    \"\"\"\n",
    "    A class representing the Online Fraud Detection data processing and modeling pipeline.\n",
    "\n",
    "    Attributes:\n",
    "        NUMERICAL_VARS (list): A list of numerical variables in the dataset.\n",
    "        CATEGORICAL_VARS_WITH_NA (list): A list of categorical variables with missing values.\n",
    "        NUMERICAL_VARS_WITH_NA (list): A list of numerical variables with missing values.\n",
    "        CATEGORICAL_VARS (list): A list of categorical variables in the dataset.\n",
    "        SEED_MODEL (int): A seed value for reproducibility.\n",
    "\n",
    "    Methods:\n",
    "        create_pipeline(): Create and return the Titanic data processing pipeline.\n",
    "    \"\"\"\n",
    "\n",
    "    def __init__(\n",
    "        self,\n",
    "        seed_model,\n",
    "        numerical_vars,\n",
    "        categorical_vars_with_na,\n",
    "        numerical_vars_with_na,\n",
    "        categorical_vars,\n",
    "        selected_features,\n",
    "    ):\n",
    "        self.SEED_MODEL = seed_model\n",
    "        self.NUMERICAL_VARS = numerical_vars\n",
    "        self.CATEGORICAL_VARS_WITH_NA = categorical_vars_with_na\n",
    "        self.NUMERICAL_VARS_WITH_NA = numerical_vars_with_na\n",
    "        self.CATEGORICAL_VARS = categorical_vars\n",
    "        self.SEED_MODEL = seed_model\n",
    "        self.SELECTED_FEATURES = selected_features\n",
    "        # logging instance\n",
    "        self.logfile = MyLogger(\"FraudDetectionPipeline\", logging.DEBUG, __name__)\n",
    "\n",
    "    def create_pipeline(self):\n",
    "        \"\"\"\n",
    "        Create and return the DataFraud data processing pipeline.\n",
    "\n",
    "        Returns:\n",
    "            Pipeline: A scikit-learn pipeline for data processing and modeling.\n",
    "        \"\"\"\n",
    "        self.logfile.debug(\"Create data pipeline\")\n",
    "        self.PIPELINE = Pipeline(\n",
    "            [\n",
    "                (\"Change transaction type\", Change_TransactionType()),\n",
    "            ]\n",
    "        )\n",
    "        return self.PIPELINE\n",
    "\n",
    "    def fit_DecisionTree(self, X_train, y_train):\n",
    "        \"\"\"\n",
    "        Fit a Decision Tree model using the predefined data preprocessing pipeline.\n",
    "\n",
    "        Parameters:\n",
    "        - X_train (pandas.DataFrame or numpy.ndarray): The training input data.\n",
    "        - y_train (pandas.Series or numpy.ndarray): The target values for training.\n",
    "\n",
    "        Returns:\n",
    "        - Decision Tree _model (DecisionTree): The fitted Decision Tree model.\n",
    "        \"\"\"\n",
    "        self.logfile.debug(\"Train Decision Model\")\n",
    "        Decision_tree_model = DecisionTreeClassifier()\n",
    "        pipeline = self.create_pipeline()\n",
    "        pipeline.fit(X_train.values, y_train)\n",
    "        Decision_tree_model.fit(pipeline.transform(X_train).values, y_train)\n",
    "        return Decision_tree_model\n",
    "\n",
    "    def transform_test_data(self, X_test):\n",
    "        \"\"\"\n",
    "        Apply the data preprocessing pipeline on the test data.\n",
    "\n",
    "        Parameters:\n",
    "        - X_test (pandas.DataFrame or numpy.ndarray): The test input data.\n",
    "\n",
    "        Returns:\n",
    "        - transformed_data (pandas.DataFrame or numpy.ndarray): The preprocessed test data.\n",
    "        \"\"\"\n",
    "        self.logfile.debug(\"Transform raw data w/transformations needed in Model\")\n",
    "        pipeline = self.create_pipeline()\n",
    "        return pipeline.transform(X_test)\n"
   ]
  },
  {
   "cell_type": "code",
   "execution_count": 24,
   "id": "915855af",
   "metadata": {
    "execution": {
     "iopub.execute_input": "2022-08-20T10:09:06.953595Z",
     "iopub.status.busy": "2022-08-20T10:09:06.953191Z",
     "iopub.status.idle": "2022-08-20T10:09:10.617700Z",
     "shell.execute_reply": "2022-08-20T10:09:10.615884Z"
    },
    "papermill": {
     "duration": 3.678167,
     "end_time": "2022-08-20T10:09:10.620786",
     "exception": false,
     "start_time": "2022-08-20T10:09:06.942619",
     "status": "completed"
    },
    "tags": []
   },
   "outputs": [
    {
     "data": {
      "text/plain": [
       "0.9996785915236176"
      ]
     },
     "execution_count": 24,
     "metadata": {},
     "output_type": "execute_result"
    }
   ],
   "source": [
    "DecisionTree_model.score(X_test, y_test)"
   ]
  },
  {
   "cell_type": "code",
   "execution_count": 25,
   "id": "dc53108b",
   "metadata": {},
   "outputs": [
    {
     "name": "stdout",
     "output_type": "stream",
     "text": [
      "[[1270690     180]\n",
      " [    229    1425]]\n",
      "              precision    recall  f1-score   support\n",
      "\n",
      "           0       1.00      1.00      1.00   1270870\n",
      "           1       0.89      0.86      0.87      1654\n",
      "\n",
      "    accuracy                           1.00   1272524\n",
      "   macro avg       0.94      0.93      0.94   1272524\n",
      "weighted avg       1.00      1.00      1.00   1272524\n",
      "\n"
     ]
    }
   ],
   "source": [
    "y_pred = DecisionTree_model.predict(X_test)\n",
    "print(confusion_matrix(y_test, y_pred))\n",
    "print(classification_report(y_test, y_pred))"
   ]
  },
  {
   "cell_type": "code",
   "execution_count": 28,
   "id": "acfdd083",
   "metadata": {},
   "outputs": [
    {
     "data": {
      "text/plain": [
       "{'ccp_alpha': 0.0,\n",
       " 'class_weight': None,\n",
       " 'criterion': 'gini',\n",
       " 'max_depth': None,\n",
       " 'max_features': None,\n",
       " 'max_leaf_nodes': None,\n",
       " 'min_impurity_decrease': 0.0,\n",
       " 'min_samples_leaf': 1,\n",
       " 'min_samples_split': 2,\n",
       " 'min_weight_fraction_leaf': 0.0,\n",
       " 'random_state': None,\n",
       " 'splitter': 'best'}"
      ]
     },
     "execution_count": 28,
     "metadata": {},
     "output_type": "execute_result"
    }
   ],
   "source": [
    "DecisionTree_model.get_params()"
   ]
  },
  {
   "cell_type": "markdown",
   "id": "064ac3d3",
   "metadata": {},
   "source": [
    "### 6. Save Model"
   ]
  },
  {
   "cell_type": "code",
   "execution_count": 26,
   "id": "beed07ec",
   "metadata": {},
   "outputs": [
    {
     "ename": "FileNotFoundError",
     "evalue": "[Errno 2] No such file or directory: '../trained_models/decision_tree_output.pkl'",
     "output_type": "error",
     "traceback": [
      "\u001b[1;31m---------------------------------------------------------------------------\u001b[0m",
      "\u001b[1;31mFileNotFoundError\u001b[0m                         Traceback (most recent call last)",
      "Cell \u001b[1;32mIn[26], line 7\u001b[0m\n\u001b[0;32m      5\u001b[0m \u001b[39m# Save the model using joblib\u001b[39;00m\n\u001b[0;32m      6\u001b[0m MODEL_FILED \u001b[39m=\u001b[39m TRAINED_MODEL_DIR \u001b[39m+\u001b[39m PIPELINE_SAVE_FILE\n\u001b[1;32m----> 7\u001b[0m joblib\u001b[39m.\u001b[39;49mdump(DecisionTree_model, MODEL_FILED)\n",
      "File \u001b[1;32mc:\\Users\\francisco.torres\\Documents\\GitHub\\MLOps_project\\venv310\\lib\\site-packages\\joblib\\numpy_pickle.py:552\u001b[0m, in \u001b[0;36mdump\u001b[1;34m(value, filename, compress, protocol, cache_size)\u001b[0m\n\u001b[0;32m    550\u001b[0m         NumpyPickler(f, protocol\u001b[39m=\u001b[39mprotocol)\u001b[39m.\u001b[39mdump(value)\n\u001b[0;32m    551\u001b[0m \u001b[39melif\u001b[39;00m is_filename:\n\u001b[1;32m--> 552\u001b[0m     \u001b[39mwith\u001b[39;00m \u001b[39mopen\u001b[39;49m(filename, \u001b[39m'\u001b[39;49m\u001b[39mwb\u001b[39;49m\u001b[39m'\u001b[39;49m) \u001b[39mas\u001b[39;00m f:\n\u001b[0;32m    553\u001b[0m         NumpyPickler(f, protocol\u001b[39m=\u001b[39mprotocol)\u001b[39m.\u001b[39mdump(value)\n\u001b[0;32m    554\u001b[0m \u001b[39melse\u001b[39;00m:\n",
      "\u001b[1;31mFileNotFoundError\u001b[0m: [Errno 2] No such file or directory: '../trained_models/decision_tree_output.pkl'"
     ]
    }
   ],
   "source": [
    "TRAINED_MODEL_DIR = \"../trained_models/\"\n",
    "PIPELINE_NAME = \"decision_tree\"\n",
    "PIPELINE_SAVE_FILE = f\"{PIPELINE_NAME}_output.pkl\"\n",
    "\n",
    "# Save the model using joblib\n",
    "MODEL_FILED = TRAINED_MODEL_DIR + PIPELINE_SAVE_FILE\n",
    "joblib.dump(DecisionTree_model, MODEL_FILED)"
   ]
  },
  {
   "cell_type": "markdown",
   "id": "6d0cfe6d",
   "metadata": {},
   "source": [
    "### 7. Load saved model and predict data"
   ]
  },
  {
   "cell_type": "code",
   "execution_count": 67,
   "id": "3de2d908",
   "metadata": {},
   "outputs": [],
   "source": [
    "# Load saved model\n",
    "DecisionTree_loaded = joblib.load(MODEL_FILED)"
   ]
  },
  {
   "cell_type": "code",
   "execution_count": 68,
   "id": "f28ab52a",
   "metadata": {
    "execution": {
     "iopub.execute_input": "2022-08-20T10:09:10.643133Z",
     "iopub.status.busy": "2022-08-20T10:09:10.642712Z",
     "iopub.status.idle": "2022-08-20T10:09:10.651442Z",
     "shell.execute_reply": "2022-08-20T10:09:10.649534Z"
    },
    "papermill": {
     "duration": 0.022398,
     "end_time": "2022-08-20T10:09:10.653921",
     "exception": false,
     "start_time": "2022-08-20T10:09:10.631523",
     "status": "completed"
    },
    "tags": []
   },
   "outputs": [
    {
     "data": {
      "text/plain": [
       "0"
      ]
     },
     "execution_count": 68,
     "metadata": {},
     "output_type": "execute_result"
    }
   ],
   "source": [
    "# NO_FRAUD test\n",
    "test_data = np.array([[5, 7880, 7880, 0.0]])\n",
    "DecisionTree_loaded.predict(test_data)[0]"
   ]
  },
  {
   "cell_type": "code",
   "execution_count": 69,
   "id": "b7d8ffb9",
   "metadata": {
    "execution": {
     "iopub.execute_input": "2022-08-20T10:09:10.676759Z",
     "iopub.status.busy": "2022-08-20T10:09:10.676227Z",
     "iopub.status.idle": "2022-08-20T10:09:10.686040Z",
     "shell.execute_reply": "2022-08-20T10:09:10.684889Z"
    },
    "papermill": {
     "duration": 0.025085,
     "end_time": "2022-08-20T10:09:10.688614",
     "exception": false,
     "start_time": "2022-08-20T10:09:10.663529",
     "status": "completed"
    },
    "tags": []
   },
   "outputs": [
    {
     "data": {
      "text/plain": [
       "1"
      ]
     },
     "execution_count": 69,
     "metadata": {},
     "output_type": "execute_result"
    }
   ],
   "source": [
    "# FRAUD test\n",
    "test_data = np.array([[6, 80000, 80000, 0.0]])\n",
    "DecisionTree_loaded.predict(test_data)[0]"
   ]
  }
 ],
 "metadata": {
  "kernelspec": {
   "display_name": "Python 3",
   "language": "python",
   "name": "python3"
  },
  "language_info": {
   "codemirror_mode": {
    "name": "ipython",
    "version": 3
   },
   "file_extension": ".py",
   "mimetype": "text/x-python",
   "name": "python",
   "nbconvert_exporter": "python",
   "pygments_lexer": "ipython3",
   "version": "3.10.11"
  },
  "papermill": {
   "default_parameters": {},
   "duration": 89.091116,
   "end_time": "2022-08-20T10:09:12.347238",
   "environment_variables": {},
   "exception": null,
   "input_path": "__notebook__.ipynb",
   "output_path": "__notebook__.ipynb",
   "parameters": {},
   "start_time": "2022-08-20T10:07:43.256122",
   "version": "2.3.4"
  }
 },
 "nbformat": 4,
 "nbformat_minor": 5
}
